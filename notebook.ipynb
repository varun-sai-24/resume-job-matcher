{
 "cells": [
  {
   "cell_type": "code",
   "execution_count": 1,
   "id": "d063cc5a",
   "metadata": {},
   "outputs": [
    {
     "ename": "ModuleNotFoundError",
     "evalue": "No module named 'PyPDF2'",
     "output_type": "error",
     "traceback": [
      "\u001b[1;31m---------------------------------------------------------------------------\u001b[0m",
      "\u001b[1;31mModuleNotFoundError\u001b[0m                       Traceback (most recent call last)",
      "Cell \u001b[1;32mIn[1], line 2\u001b[0m\n\u001b[0;32m      1\u001b[0m \u001b[38;5;28;01mimport\u001b[39;00m \u001b[38;5;21;01mos\u001b[39;00m\n\u001b[1;32m----> 2\u001b[0m \u001b[38;5;28;01mimport\u001b[39;00m \u001b[38;5;21;01mPyPDF2\u001b[39;00m\n\u001b[0;32m      3\u001b[0m \u001b[38;5;28;01mimport\u001b[39;00m \u001b[38;5;21;01mpandas\u001b[39;00m \u001b[38;5;28;01mas\u001b[39;00m \u001b[38;5;21;01mpd\u001b[39;00m\n\u001b[0;32m      4\u001b[0m \u001b[38;5;28;01mfrom\u001b[39;00m \u001b[38;5;21;01msklearn\u001b[39;00m\u001b[38;5;21;01m.\u001b[39;00m\u001b[38;5;21;01mfeature_extraction\u001b[39;00m\u001b[38;5;21;01m.\u001b[39;00m\u001b[38;5;21;01mtext\u001b[39;00m \u001b[38;5;28;01mimport\u001b[39;00m TfidfVectorizer\n",
      "\u001b[1;31mModuleNotFoundError\u001b[0m: No module named 'PyPDF2'"
     ]
    }
   ],
   "source": [
    "import os\n",
    "import PyPDF2\n",
    "import pandas as pd"
   ]
  },
  {
   "cell_type": "code",
   "execution_count": 13,
   "id": "70a4ba09",
   "metadata": {},
   "outputs": [],
   "source": [
    "from sklearn.feature_extraction.text import TfidfVectorizer\n",
    "from sklearn.metrics.pairwise import cosine_similarity"
   ]
  },
  {
   "cell_type": "code",
   "execution_count": 2,
   "id": "2ab4fc8c",
   "metadata": {},
   "outputs": [
    {
     "name": "stdout",
     "output_type": "stream",
     "text": [
      "Collecting PYPDF2\n",
      "  Obtaining dependency information for PYPDF2 from https://files.pythonhosted.org/packages/8e/5e/c86a5643653825d3c913719e788e41386bee415c2b87b4f955432f2de6b2/pypdf2-3.0.1-py3-none-any.whl.metadata\n",
      "  Downloading pypdf2-3.0.1-py3-none-any.whl.metadata (6.8 kB)\n",
      "Downloading pypdf2-3.0.1-py3-none-any.whl (232 kB)\n",
      "   ---------------------------------------- 0.0/232.6 kB ? eta -:--:--\n",
      "   ---------------------------------------- 0.0/232.6 kB ? eta -:--:--\n",
      "   ---------------------------------------- 0.0/232.6 kB ? eta -:--:--\n",
      "   ---------------------------------------- 0.0/232.6 kB ? eta -:--:--\n",
      "   - -------------------------------------- 10.2/232.6 kB ? eta -:--:--\n",
      "   ----- --------------------------------- 30.7/232.6 kB 435.7 kB/s eta 0:00:01\n",
      "   ------------- ------------------------- 81.9/232.6 kB 573.4 kB/s eta 0:00:01\n",
      "   -------------------------- ----------- 163.8/232.6 kB 821.4 kB/s eta 0:00:01\n",
      "   ---------------------------------------- 232.6/232.6 kB 1.1 MB/s eta 0:00:00\n",
      "Installing collected packages: PYPDF2\n",
      "Successfully installed PYPDF2-3.0.1\n"
     ]
    }
   ],
   "source": [
    "!pip install PYPDF2"
   ]
  },
  {
   "cell_type": "code",
   "execution_count": 3,
   "id": "de732e5d",
   "metadata": {},
   "outputs": [],
   "source": [
    "import PyPDF2"
   ]
  },
  {
   "cell_type": "code",
   "execution_count": 4,
   "id": "819df17a",
   "metadata": {},
   "outputs": [],
   "source": [
    "def extract_text_from_pdf(pdf_path):\n",
    "    text = \"\"\n",
    "    with open(pdf_path, 'rb') as file:\n",
    "        reader = PyPDF2.PdfReader(file)\n",
    "        for page in reader.pages:\n",
    "            text += page.extract_text()\n",
    "    return text"
   ]
  },
  {
   "cell_type": "code",
   "execution_count": 16,
   "id": "d77b2a9c",
   "metadata": {},
   "outputs": [],
   "source": [
    "resume_text = \"Python developer with experience in data analysis and machine learning.\"\n",
    "job_text = \"Looking for someone skilled in Python, data analysis, and ML.\""
   ]
  },
  {
   "cell_type": "code",
   "execution_count": 9,
   "id": "385b194d",
   "metadata": {},
   "outputs": [],
   "source": [
    "resume_path = \"sample_resume.pdf\"\n",
    "job_path = \"job_description.pdf\"\n",
    "\n",
    "resume_text = extract_text_from_pdf(resume_path)\n",
    "job_text = extract_text_from_pdf(job_path)"
   ]
  },
  {
   "cell_type": "code",
   "execution_count": 10,
   "id": "2d03a9ad",
   "metadata": {},
   "outputs": [],
   "source": [
    "job_path = \"job_description.pdf\"\n",
    "job_text = extract_text_from_pdf(job_path)\n"
   ]
  },
  {
   "cell_type": "code",
   "execution_count": 17,
   "id": "c4f020b6",
   "metadata": {},
   "outputs": [
    {
     "name": "stdout",
     "output_type": "stream",
     "text": [
      "Match Score: 33.61%\n"
     ]
    }
   ],
   "source": [
    "documents = [resume_text, job_text]\n",
    "\n",
    "vectorizer = TfidfVectorizer()\n",
    "tfidf_matrix = vectorizer.fit_transform(documents)\n",
    "\n",
    "similarity_score = cosine_similarity(tfidf_matrix[0:1], tfidf_matrix[1:2])[0][0]\n",
    "print(f\"Match Score: {similarity_score * 100:.2f}%\")"
   ]
  },
  {
   "cell_type": "code",
   "execution_count": 18,
   "id": "e3a45a0e",
   "metadata": {},
   "outputs": [],
   "source": [
    "import re\n",
    "\n",
    "def preprocess(text):\n",
    "    text = text.lower()\n",
    "    text = re.sub(r'[^\\w\\s]', '', text)  # Remove punctuation\n",
    "    return set(text.split())"
   ]
  },
  {
   "cell_type": "code",
   "execution_count": 19,
   "id": "110afc02",
   "metadata": {},
   "outputs": [
    {
     "name": "stdout",
     "output_type": "stream",
     "text": [
      "\n",
      "✅ Matched Keywords:\n",
      "analysis, and, data, in, python\n",
      "\n",
      "❌ Missing Keywords:\n",
      "for, looking, ml, skilled, someone\n"
     ]
    }
   ],
   "source": [
    "resume_words = preprocess(resume_text)\n",
    "job_words = preprocess(job_text)\n",
    "\n",
    "matched_keywords = resume_words.intersection(job_words)\n",
    "missing_keywords = job_words.difference(resume_words)\n",
    "\n",
    "print(f\"\\n✅ Matched Keywords:\\n{', '.join(sorted(matched_keywords))}\")\n",
    "print(f\"\\n❌ Missing Keywords:\\n{', '.join(sorted(missing_keywords))}\")"
   ]
  },
  {
   "cell_type": "code",
   "execution_count": null,
   "id": "3abe7c67",
   "metadata": {},
   "outputs": [],
   "source": []
  }
 ],
 "metadata": {
  "kernelspec": {
   "display_name": "Python 3 (ipykernel)",
   "language": "python",
   "name": "python3"
  },
  "language_info": {
   "codemirror_mode": {
    "name": "ipython",
    "version": 3
   },
   "file_extension": ".py",
   "mimetype": "text/x-python",
   "name": "python",
   "nbconvert_exporter": "python",
   "pygments_lexer": "ipython3",
   "version": "3.11.5"
  }
 },
 "nbformat": 4,
 "nbformat_minor": 5
}
